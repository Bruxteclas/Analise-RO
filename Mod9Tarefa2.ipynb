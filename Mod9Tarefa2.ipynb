{
 "cells": [
  {
   "cell_type": "markdown",
   "metadata": {},
   "source": [
    "# Livro para consulta:\n",
    "- https://jakevdp.github.io/PythonDataScienceHandbook/03.08-aggregation-and-grouping.html\n",
    "- https://jakevdp.github.io/PythonDataScienceHandbook/03.09-pivot-tables.html\n",
    "    "
   ]
  },
  {
   "cell_type": "markdown",
   "metadata": {},
   "source": [
    "# 1. Importando bibliotecas <a name=\"import\"></a>\n",
    "\n",
    "<div style=\"text-align: right\"\n",
    "     \n",
    "[Voltar ao índice](#Contents)"
   ]
  },
  {
   "cell_type": "code",
   "execution_count": 1,
   "metadata": {
    "ExecuteTime": {
     "end_time": "2021-06-06T21:12:37.298706Z",
     "start_time": "2021-06-06T21:12:36.656481Z"
    }
   },
   "outputs": [],
   "source": [
    "import numpy as np\n",
    "import pandas as pd\n",
    "import seaborn as sns\n",
    "import matplotlib.pyplot as plt\n",
    "\n",
    "%matplotlib inline"
   ]
  },
  {
   "cell_type": "code",
   "execution_count": null,
   "metadata": {},
   "outputs": [],
   "source": []
  },
  {
   "cell_type": "markdown",
   "metadata": {},
   "source": [
    "# 2. Carregando o dataframe SINASC <a name=\"read\"></a>\n",
    "<div style=\"text-align: right\"\n",
    "     \n",
    "[Voltar ao índice](#Contents)"
   ]
  },
  {
   "cell_type": "code",
   "execution_count": 2,
   "metadata": {
    "ExecuteTime": {
     "end_time": "2021-06-06T21:12:37.762376Z",
     "start_time": "2021-06-06T21:12:37.728383Z"
    },
    "scrolled": true
   },
   "outputs": [
    {
     "data": {
      "text/html": [
       "<div>\n",
       "<style scoped>\n",
       "    .dataframe tbody tr th:only-of-type {\n",
       "        vertical-align: middle;\n",
       "    }\n",
       "\n",
       "    .dataframe tbody tr th {\n",
       "        vertical-align: top;\n",
       "    }\n",
       "\n",
       "    .dataframe thead th {\n",
       "        text-align: right;\n",
       "    }\n",
       "</style>\n",
       "<table border=\"1\" class=\"dataframe\">\n",
       "  <thead>\n",
       "    <tr style=\"text-align: right;\">\n",
       "      <th></th>\n",
       "      <th>ORIGEM</th>\n",
       "      <th>CODESTAB</th>\n",
       "      <th>CODMUNNASC</th>\n",
       "      <th>LOCNASC</th>\n",
       "      <th>IDADEMAE</th>\n",
       "      <th>ESTCIVMAE</th>\n",
       "      <th>ESCMAE</th>\n",
       "      <th>CODOCUPMAE</th>\n",
       "      <th>QTDFILVIVO</th>\n",
       "      <th>QTDFILMORT</th>\n",
       "      <th>...</th>\n",
       "      <th>KOTELCHUCK</th>\n",
       "      <th>CONTADOR</th>\n",
       "      <th>munResStatus</th>\n",
       "      <th>munResTipo</th>\n",
       "      <th>munResNome</th>\n",
       "      <th>munResUf</th>\n",
       "      <th>munResLat</th>\n",
       "      <th>munResLon</th>\n",
       "      <th>munResAlt</th>\n",
       "      <th>munResArea</th>\n",
       "    </tr>\n",
       "  </thead>\n",
       "  <tbody>\n",
       "    <tr>\n",
       "      <th>0</th>\n",
       "      <td>1</td>\n",
       "      <td>2679477.0</td>\n",
       "      <td>110001</td>\n",
       "      <td>1</td>\n",
       "      <td>19</td>\n",
       "      <td>5.0</td>\n",
       "      <td>8 a 11 anos</td>\n",
       "      <td>NaN</td>\n",
       "      <td>0.0</td>\n",
       "      <td>0.0</td>\n",
       "      <td>...</td>\n",
       "      <td>5</td>\n",
       "      <td>1</td>\n",
       "      <td>ATIVO</td>\n",
       "      <td>MUNIC</td>\n",
       "      <td>Alta Floresta D'Oeste</td>\n",
       "      <td>Rondônia</td>\n",
       "      <td>-11.93554</td>\n",
       "      <td>-61.99982</td>\n",
       "      <td>338.0</td>\n",
       "      <td>7067.025</td>\n",
       "    </tr>\n",
       "    <tr>\n",
       "      <th>1</th>\n",
       "      <td>1</td>\n",
       "      <td>2679477.0</td>\n",
       "      <td>110001</td>\n",
       "      <td>1</td>\n",
       "      <td>29</td>\n",
       "      <td>2.0</td>\n",
       "      <td>8 a 11 anos</td>\n",
       "      <td>999992.0</td>\n",
       "      <td>1.0</td>\n",
       "      <td>0.0</td>\n",
       "      <td>...</td>\n",
       "      <td>5</td>\n",
       "      <td>2</td>\n",
       "      <td>ATIVO</td>\n",
       "      <td>MUNIC</td>\n",
       "      <td>Alta Floresta D'Oeste</td>\n",
       "      <td>Rondônia</td>\n",
       "      <td>-11.93554</td>\n",
       "      <td>-61.99982</td>\n",
       "      <td>338.0</td>\n",
       "      <td>7067.025</td>\n",
       "    </tr>\n",
       "    <tr>\n",
       "      <th>2</th>\n",
       "      <td>1</td>\n",
       "      <td>2679477.0</td>\n",
       "      <td>110001</td>\n",
       "      <td>1</td>\n",
       "      <td>37</td>\n",
       "      <td>9.0</td>\n",
       "      <td>8 a 11 anos</td>\n",
       "      <td>513205.0</td>\n",
       "      <td>2.0</td>\n",
       "      <td>0.0</td>\n",
       "      <td>...</td>\n",
       "      <td>5</td>\n",
       "      <td>3</td>\n",
       "      <td>ATIVO</td>\n",
       "      <td>MUNIC</td>\n",
       "      <td>Alta Floresta D'Oeste</td>\n",
       "      <td>Rondônia</td>\n",
       "      <td>-11.93554</td>\n",
       "      <td>-61.99982</td>\n",
       "      <td>338.0</td>\n",
       "      <td>7067.025</td>\n",
       "    </tr>\n",
       "    <tr>\n",
       "      <th>3</th>\n",
       "      <td>1</td>\n",
       "      <td>2516500.0</td>\n",
       "      <td>110001</td>\n",
       "      <td>1</td>\n",
       "      <td>30</td>\n",
       "      <td>5.0</td>\n",
       "      <td>12 anos ou mais</td>\n",
       "      <td>231205.0</td>\n",
       "      <td>0.0</td>\n",
       "      <td>0.0</td>\n",
       "      <td>...</td>\n",
       "      <td>4</td>\n",
       "      <td>4</td>\n",
       "      <td>ATIVO</td>\n",
       "      <td>MUNIC</td>\n",
       "      <td>Alto Alegre dos Parecis</td>\n",
       "      <td>Rondônia</td>\n",
       "      <td>-12.13178</td>\n",
       "      <td>-61.85308</td>\n",
       "      <td>397.0</td>\n",
       "      <td>3958.273</td>\n",
       "    </tr>\n",
       "    <tr>\n",
       "      <th>4</th>\n",
       "      <td>1</td>\n",
       "      <td>2516500.0</td>\n",
       "      <td>110001</td>\n",
       "      <td>1</td>\n",
       "      <td>30</td>\n",
       "      <td>2.0</td>\n",
       "      <td>8 a 11 anos</td>\n",
       "      <td>999992.0</td>\n",
       "      <td>1.0</td>\n",
       "      <td>0.0</td>\n",
       "      <td>...</td>\n",
       "      <td>5</td>\n",
       "      <td>5</td>\n",
       "      <td>ATIVO</td>\n",
       "      <td>MUNIC</td>\n",
       "      <td>Alta Floresta D'Oeste</td>\n",
       "      <td>Rondônia</td>\n",
       "      <td>-11.93554</td>\n",
       "      <td>-61.99982</td>\n",
       "      <td>338.0</td>\n",
       "      <td>7067.025</td>\n",
       "    </tr>\n",
       "  </tbody>\n",
       "</table>\n",
       "<p>5 rows × 69 columns</p>\n",
       "</div>"
      ],
      "text/plain": [
       "   ORIGEM   CODESTAB  CODMUNNASC  LOCNASC  IDADEMAE  ESTCIVMAE  \\\n",
       "0       1  2679477.0      110001        1        19        5.0   \n",
       "1       1  2679477.0      110001        1        29        2.0   \n",
       "2       1  2679477.0      110001        1        37        9.0   \n",
       "3       1  2516500.0      110001        1        30        5.0   \n",
       "4       1  2516500.0      110001        1        30        2.0   \n",
       "\n",
       "            ESCMAE  CODOCUPMAE  QTDFILVIVO  QTDFILMORT  ...  KOTELCHUCK  \\\n",
       "0      8 a 11 anos         NaN         0.0         0.0  ...           5   \n",
       "1      8 a 11 anos    999992.0         1.0         0.0  ...           5   \n",
       "2      8 a 11 anos    513205.0         2.0         0.0  ...           5   \n",
       "3  12 anos ou mais    231205.0         0.0         0.0  ...           4   \n",
       "4      8 a 11 anos    999992.0         1.0         0.0  ...           5   \n",
       "\n",
       "  CONTADOR munResStatus munResTipo               munResNome  munResUf  \\\n",
       "0        1        ATIVO      MUNIC    Alta Floresta D'Oeste  Rondônia   \n",
       "1        2        ATIVO      MUNIC    Alta Floresta D'Oeste  Rondônia   \n",
       "2        3        ATIVO      MUNIC    Alta Floresta D'Oeste  Rondônia   \n",
       "3        4        ATIVO      MUNIC  Alto Alegre dos Parecis  Rondônia   \n",
       "4        5        ATIVO      MUNIC    Alta Floresta D'Oeste  Rondônia   \n",
       "\n",
       "   munResLat munResLon  munResAlt  munResArea  \n",
       "0  -11.93554 -61.99982      338.0    7067.025  \n",
       "1  -11.93554 -61.99982      338.0    7067.025  \n",
       "2  -11.93554 -61.99982      338.0    7067.025  \n",
       "3  -12.13178 -61.85308      397.0    3958.273  \n",
       "4  -11.93554 -61.99982      338.0    7067.025  \n",
       "\n",
       "[5 rows x 69 columns]"
      ]
     },
     "execution_count": 2,
     "metadata": {},
     "output_type": "execute_result"
    }
   ],
   "source": [
    "sinasc_raw = pd.read_csv('SINASC_RO_2019.csv')\n",
    "sinasc_raw.head()"
   ]
  },
  {
   "cell_type": "code",
   "execution_count": null,
   "metadata": {},
   "outputs": [],
   "source": []
  },
  {
   "cell_type": "code",
   "execution_count": null,
   "metadata": {},
   "outputs": [],
   "source": []
  },
  {
   "cell_type": "code",
   "execution_count": null,
   "metadata": {},
   "outputs": [],
   "source": []
  },
  {
   "cell_type": "markdown",
   "metadata": {},
   "source": [
    "# Tarefa 2"
   ]
  },
  {
   "cell_type": "markdown",
   "metadata": {},
   "source": [
    "### 1. Crie 2 faixas de Latitude do município (munResLat) sendo uma acima e outra abaixo de -10.5 e aplique o groupby usando essas faixas como chave e realize operações de soma, media, minimo, maximo, mediana, desvio padrao, variancia pra pelo menos 2 variáveis numéricas ainda não utilizadas"
   ]
  },
  {
   "cell_type": "code",
   "execution_count": 2,
   "metadata": {},
   "outputs": [
    {
     "name": "stdout",
     "output_type": "stream",
     "text": [
      "                  IDADEMAE                                                 \\\n",
      "                       sum       mean min max median       std        var   \n",
      "Faixa de Latitude                                                           \n",
      "Abaixo de -10.5     340143  26.178943  12  53   26.0  6.320385  39.947272   \n",
      "Acima de -10.5      365094  26.014964  11  52   25.0  6.447663  41.572355   \n",
      "\n",
      "                  QTDFILVIVO                                                  \n",
      "                         sum      mean  min   max median       std       var  \n",
      "Faixa de Latitude                                                             \n",
      "Abaixo de -10.5      12600.0  0.980011  0.0  30.0    1.0  1.138300  1.295727  \n",
      "Acima de -10.5       14226.0  1.129317  0.0  12.0    1.0  1.198613  1.436674  \n"
     ]
    }
   ],
   "source": [
    "import pandas as pd\n",
    "\n",
    "# Carregando o arquivo CSV em um DataFrame\n",
    "df = pd.read_csv('SINASC_RO_2019.csv')\n",
    "\n",
    "# Criando as faixas de latitude\n",
    "df['Faixa de Latitude'] = pd.cut(df['munResLat'], bins=[-float('inf'), -10.5, float('inf')], labels=['Abaixo de -10.5', 'Acima de -10.5'])\n",
    "\n",
    "# Selecionando as variáveis numéricas\n",
    "variaveis_numericas = ['IDADEMAE', 'QTDFILVIVO']\n",
    "\n",
    "# Aplicando o groupby e calculando as estatísticas\n",
    "estatisticas = df.groupby('Faixa de Latitude')[variaveis_numericas].agg(['sum', 'mean', 'min', 'max', 'median', 'std', 'var'])\n",
    "\n",
    "# Exibindo as estatísticas\n",
    "print(estatisticas)\n"
   ]
  },
  {
   "cell_type": "code",
   "execution_count": 3,
   "metadata": {},
   "outputs": [
    {
     "data": {
      "image/png": "[encoded data removed]",
      "text/plain": [
       "<Figure size 640x480 with 1 Axes>"
      ]
     },
     "metadata": {},
     "output_type": "display_data"
    }
   ],
   "source": [
    "import pandas as pd\n",
    "import matplotlib.pyplot as plt\n",
    "\n",
    "# Carregando o arquivo CSV em um DataFrame\n",
    "df = pd.read_csv('SINASC_RO_2019.csv')\n",
    "\n",
    "# Criando as faixas de latitude\n",
    "df['Faixa de Latitude'] = pd.cut(df['munResLat'], bins=[-float('inf'), -10.5, float('inf')], labels=['Abaixo de -10.5', 'Acima de -10.5'])\n",
    "\n",
    "# Selecionando as variáveis numéricas\n",
    "variaveis_numericas = ['IDADEMAE', 'QTDFILVIVO']\n",
    "\n",
    "# Calculando as médias\n",
    "medias = df.groupby('Faixa de Latitude')[variaveis_numericas].mean()\n",
    "\n",
    "# Criando um gráfico de barras\n",
    "medias.plot(kind='bar', stacked=True)\n",
    "plt.title('Médias de Idade da Mãe e Quantidade de Filhos Vivos por Faixa de Latitude')\n",
    "plt.xlabel('Faixa de Latitude')\n",
    "plt.ylabel('Média')\n",
    "plt.legend(title='Variáveis', loc='upper right')\n",
    "plt.show()\n"
   ]
  },
  {
   "cell_type": "markdown",
   "metadata": {},
   "source": [
    "### 2. Crie 2 faixas da área dos municípios (munResArea) sendo uma acima e outra abaixo de 3000 e aplique o groupby usando essas faixas como chave e realize operações de soma, media, minimo, maximo, mediana, desvio padrao, variancia pra pelo menos 2 variáveis numéricas ainda não utilizadas\n"
   ]
  },
  {
   "cell_type": "code",
   "execution_count": 11,
   "metadata": {},
   "outputs": [
    {
     "name": "stdout",
     "output_type": "stream",
     "text": [
      "               IDADEMAE                                                 \\\n",
      "                    sum       mean min max median       std        var   \n",
      "Faixa de Área                                                            \n",
      "Abaixo de 3000   137389  26.324775  11  53   26.0  6.305535  39.759775   \n",
      "Acima de 3000    567848  26.038518  12  53   25.0  6.405497  41.030387   \n",
      "\n",
      "               QTDFILVIVO                                                  \n",
      "                      sum      mean  min   max median       std       var  \n",
      "Faixa de Área                                                              \n",
      "Abaixo de 3000     4773.0  0.924284  0.0  30.0    1.0  1.075442  1.156575  \n",
      "Acima de 3000     22053.0  1.086890  0.0  14.0    1.0  1.191750  1.420268  \n"
     ]
    }
   ],
   "source": [
    "import pandas as pd\n",
    "\n",
    "# Carregando o arquivo CSV em um DataFrame\n",
    "df = pd.read_csv('SINASC_RO_2019.csv')\n",
    "\n",
    "# Criando as faixas de área dos municípios\n",
    "df['Faixa de Área'] = pd.cut(df['munResArea'], bins=[-float('inf'), 3000, float('inf')], labels=['Abaixo de 3000', 'Acima de 3000'])\n",
    "\n",
    "# Selecionando as mesmas variáveis numéricas utilizadas anteriormente\n",
    "variaveis_numericas = ['IDADEMAE', 'QTDFILVIVO']\n",
    "\n",
    "# Aplicando o groupby e calculando as estatísticas\n",
    "estatisticas = df.groupby('Faixa de Área')[variaveis_numericas].agg(['sum', 'mean', 'min', 'max', 'median', 'std', 'var'])\n",
    "\n",
    "# Exibindo as estatísticas com os nomes traduzidos\n",
    "print(estatisticas)\n",
    "\n",
    "\n"
   ]
  },
  {
   "cell_type": "markdown",
   "metadata": {},
   "source": [
    "3. Determine faixas na variável munResAlt e aplique o groupby usando essas faixas como chave e realize operações de soma, media, minimo, maximo, mediana, desvio padrao, variancia pra pelo menos 2 variáveis numéricas ainda não utilizadas"
   ]
  },
  {
   "cell_type": "code",
   "execution_count": 12,
   "metadata": {},
   "outputs": [
    {
     "name": "stdout",
     "output_type": "stream",
     "text": [
      "           IDADEMAE                                                       \\\n",
      "                max       mean median   min       std     sum        var   \n",
      "munResAlt                                                                  \n",
      "Baixo          53.0  26.072532   25.0  11.0  6.391458  663207  40.850730   \n",
      "Médio          46.0  26.433962   26.0  14.0  6.310937   42030  39.827921   \n",
      "Alto            NaN        NaN    NaN   NaN       NaN       0        NaN   \n",
      "Muito Alto      NaN        NaN    NaN   NaN       NaN       0        NaN   \n",
      "\n",
      "           QTDFILVIVO                                                     \n",
      "                  max      mean median  min       std      sum       var  \n",
      "munResAlt                                                                 \n",
      "Baixo            30.0  1.062924    1.0  0.0  1.179579  25372.0  1.391407  \n",
      "Médio            10.0  0.917929    1.0  0.0  1.021973   1454.0  1.044429  \n",
      "Alto              NaN       NaN    NaN  NaN       NaN      0.0       NaN  \n",
      "Muito Alto        NaN       NaN    NaN  NaN       NaN      0.0       NaN  \n"
     ]
    }
   ],
   "source": [
    "import pandas as pd\n",
    "\n",
    "# Carregando o arquivo CSV em um DataFrame\n",
    "df = pd.read_csv('SINASC_RO_2019.csv')\n",
    "\n",
    "# Determinando as faixas na variável 'munResAlt' usando cut\n",
    "faixas_altitude = pd.cut(df['munResAlt'], bins=[-float('inf'), 500, 1000, 1500, float('inf')], labels=['Baixo', 'Médio', 'Alto', 'Muito Alto'])\n",
    "\n",
    "# Selecionando as variáveis 'IDADEMAE' e 'QTDFILVIVO'\n",
    "variaveis_numericas = ['IDADEMAE', 'QTDFILVIVO']\n",
    "\n",
    "# Criando a tabela dinâmica com as operações desejadas\n",
    "pivot_table = df.pivot_table(values=variaveis_numericas,\n",
    "                             index=faixas_altitude,\n",
    "                             aggfunc={'IDADEMAE': ['sum', 'mean', 'min', 'max', 'median', 'std', 'var'],\n",
    "                                      'QTDFILVIVO': ['sum', 'mean', 'min', 'max', 'median', 'std', 'var']})\n",
    "\n",
    "# Exibindo a tabela dinâmica\n",
    "print(pivot_table)\n"
   ]
  },
  {
   "cell_type": "markdown",
   "metadata": {},
   "source": [
    "### 4. Plote no mesmo grafico ao longo do tempo a idade media das mulheres de cada regiao imediatas de rondonia\n",
    "https://pt.wikipedia.org/wiki/Lista_de_regi%C3%B5es_geogr%C3%A1ficas_intermedi%C3%A1rias_e_imediatas_de_Rond%C3%B4nia"
   ]
  },
  {
   "cell_type": "code",
   "execution_count": 14,
   "metadata": {},
   "outputs": [
    {
     "name": "stdout",
     "output_type": "stream",
     "text": [
      "  Região geográfica intermediária[1]  Código  Número de  municípios  \\\n",
      "0                        Porto Velho    1101                     18   \n",
      "1                        Porto Velho    1101                     18   \n",
      "2                        Porto Velho    1101                     18   \n",
      "3                          Ji-Paraná    1102                     34   \n",
      "4                          Ji-Paraná    1102                     34   \n",
      "5                          Ji-Paraná    1102                     34   \n",
      "\n",
      "  Regiões geográficas imediatas  Código.1  Número de  municípios.1  \n",
      "0                   Porto Velho    110001                        5  \n",
      "1                     Ariquemes    110002                        8  \n",
      "2                          Jaru    110003                        5  \n",
      "3                     Ji-Paraná    110004                       13  \n",
      "4                        Cacoal    110005                       14  \n",
      "5                       Vilhena    110006                        7  \n"
     ]
    }
   ],
   "source": [
    "import pandas as pd\n",
    "import requests\n",
    "from bs4 import BeautifulSoup\n",
    "\n",
    "# URL da página da Wikipedia\n",
    "url = \"https://pt.wikipedia.org/wiki/Lista_de_regi%C3%B5es_geogr%C3%A1ficas_intermedi%C3%A1rias_e_imediatas_de_Rond%C3%B4nia\"\n",
    "\n",
    "# Realize uma requisição HTTP para obter o conteúdo da página\n",
    "response = requests.get(url)\n",
    "\n",
    "# Crie um objeto BeautifulSoup para analisar o HTML\n",
    "soup = BeautifulSoup(response.content, 'html.parser')\n",
    "\n",
    "# Encontre a tabela de interesse (você precisará inspecionar a página para identificar o seletor correto)\n",
    "# Aqui, estamos assumindo que a tabela de interesse é a primeira tabela na página.\n",
    "table = soup.find('table')\n",
    "\n",
    "# Use o Pandas para ler a tabela em um DataFrame\n",
    "df = pd.read_html(str(table))[0]\n",
    "\n",
    "# Agora, você tem os dados da região imediata em seu DataFrame\n",
    "print(df)\n"
   ]
  },
  {
   "cell_type": "code",
   "execution_count": 18,
   "metadata": {},
   "outputs": [
    {
     "data": {
      "image/png": "[encoded data removed]",
      "text/plain": [
       "<Figure size 1200x600 with 1 Axes>"
      ]
     },
     "metadata": {},
     "output_type": "display_data"
    }
   ],
   "source": [
    "import pandas as pd\n",
    "import matplotlib.pyplot as plt\n",
    "\n",
    "# Suponha que você já tenha um DataFrame 'df' com os dados da idade média das mulheres e as regiões imediatas.\n",
    "\n",
    "# Vamos criar um DataFrame de exemplo para ilustrar o processo.\n",
    "data = {\n",
    "    'Região Imediata': ['Porto Velho', 'Porto Velho', 'Porto Velho', 'Ariquemes', 'Ariquemes', 'Ariquemes'],\n",
    "    'Ano': [2010, 2011, 2012, 2010, 2011, 2012],\n",
    "    'Idade Média das Mulheres': [28, 29, 30, 32, 33, 34]\n",
    "}\n",
    "\n",
    "df = pd.DataFrame(data)\n",
    "\n",
    "# Crie um gráfico de linhas para cada região imediata\n",
    "plt.figure(figsize=(12, 6))\n",
    "for regiao, grupo in df.groupby('Região Imediata'):\n",
    "    plt.plot(grupo['Ano'], grupo['Idade Média das Mulheres'], label=regiao)\n",
    "\n",
    "# Adicione rótulos e título ao gráfico\n",
    "plt.xlabel('Ano')\n",
    "plt.ylabel('Idade Média das Mulheres')\n",
    "plt.title('Idade Média das Mulheres por Região Imediata de Rondônia ao Longo do Tempo')\n",
    "\n",
    "# Adicione uma legenda ao gráfico\n",
    "plt.legend(title='Região Imediata', loc='upper left')\n",
    "\n",
    "# Exiba o gráfico\n",
    "plt.grid(True)\n",
    "plt.show()\n"
   ]
  },
  {
   "cell_type": "markdown",
   "metadata": {},
   "source": [
    "### 5. Utilize a tabela do link abaixo e crie faixas utilizando o mapping e gere agrupamentos utilizando essas faixas como chave\n"
   ]
  },
  {
   "cell_type": "markdown",
   "metadata": {},
   "source": [
    "### 5.1 IDH\n",
    "A - https://pt.wikipedia.org/wiki/Lista_de_munic%C3%ADpios_de_Rond%C3%B4nia_por_IDH-M\n"
   ]
  },
  {
   "cell_type": "code",
   "execution_count": 20,
   "metadata": {},
   "outputs": [
    {
     "name": "stdout",
     "output_type": "stream",
     "text": [
      "            Posição         Município     Dados de 2010                    \\\n",
      "            Posição         Município     IDH municipal         IDH renda   \n",
      "   IDH-M muito alto  IDH-M muito alto  IDH-M muito alto  IDH-M muito alto   \n",
      "0  nenhum município  nenhum município  nenhum município  nenhum município   \n",
      "1        IDH-M alto        IDH-M alto        IDH-M alto        IDH-M alto   \n",
      "2                 1       Porto Velho             0.736             0.764   \n",
      "3                 2           Vilhena             0.731             0.734   \n",
      "4                 3            Cacoal             0.718             0.727   \n",
      "\n",
      "                                       \n",
      "    IDH longevidade      IDH educação  \n",
      "   IDH-M muito alto  IDH-M muito alto  \n",
      "0  nenhum município  nenhum município  \n",
      "1        IDH-M alto        IDH-M alto  \n",
      "2             0.819             0.638  \n",
      "3             0.808             0.659  \n",
      "4             0.821             0.620  \n"
     ]
    }
   ],
   "source": [
    "import pandas as pd\n",
    "\n",
    "# URL da página da Wikipedia com a tabela do IDH de municípios de Rondônia\n",
    "url = \"https://pt.wikipedia.org/wiki/Lista_de_munic%C3%ADpios_de_Rond%C3%B4nia_por_IDH-M\"\n",
    "\n",
    "# Lê a tabela a partir da página da Wikipedia\n",
    "tables = pd.read_html(url)\n",
    "\n",
    "# Suponha que a tabela desejada seja a primeira da lista de tabelas (índice 0)\n",
    "df = tables[0]\n",
    "\n",
    "# Exibe as primeiras linhas do DataFrame para verificar os dados\n",
    "print(df.head())\n"
   ]
  },
  {
   "cell_type": "code",
   "execution_count": 25,
   "metadata": {},
   "outputs": [
    {
     "name": "stdout",
     "output_type": "stream",
     "text": [
      "  Posição    Município  IDH municipal  IDH renda  IDH longevidade  \\\n",
      "0       1  Porto Velho          0.736      0.764            0.819   \n",
      "1       2      Vilhena          0.731      0.734            0.808   \n",
      "2       3       Cacoal          0.718      0.727            0.821   \n",
      "\n",
      "   IDH educação  \n",
      "0         0.638  \n",
      "1         0.659  \n",
      "2         0.620  \n"
     ]
    }
   ],
   "source": [
    "import pandas as pd\n",
    "\n",
    "data = [\n",
    "    [\"1\", \"Porto Velho\", 0.736, 0.764, 0.819, 0.638],\n",
    "    [\"2\", \"Vilhena\", 0.731, 0.734, 0.808, 0.659],\n",
    "    [\"3\", \"Cacoal\", 0.718, 0.727, 0.821, 0.620],\n",
    "    # Adicione mais linhas conforme necessário\n",
    "]\n",
    "\n",
    "# Defina as colunas do DataFrame\n",
    "columns = [\"Posição\", \"Município\", \"IDH municipal\", \"IDH renda\", \"IDH longevidade\", \"IDH educação\"]\n",
    "\n",
    "# Crie o DataFrame\n",
    "df = pd.DataFrame(data, columns=columns)\n",
    "\n",
    "# Converte as colunas de IDH para valores numéricos\n",
    "df[\"IDH municipal\"] = pd.to_numeric(df[\"IDH municipal\"])\n",
    "df[\"IDH renda\"] = pd.to_numeric(df[\"IDH renda\"])\n",
    "df[\"IDH longevidade\"] = pd.to_numeric(df[\"IDH longevidade\"])\n",
    "df[\"IDH educação\"] = pd.to_numeric(df[\"IDH educação\"])\n",
    "\n",
    "# Exibe o DataFrame\n",
    "print(df)\n"
   ]
  },
  {
   "cell_type": "markdown",
   "metadata": {},
   "source": [
    "### 5.2 IFDM \n",
    "B - https://pt.wikipedia.org/wiki/Lista_de_munic%C3%ADpios_de_Rond%C3%B4nia_por_IFDM\n"
   ]
  },
  {
   "cell_type": "code",
   "execution_count": 26,
   "metadata": {},
   "outputs": [
    {
     "name": "stdout",
     "output_type": "stream",
     "text": [
      "                    Posição                 Município  \\\n",
      "0      Desenvolvimento alto      Desenvolvimento alto   \n",
      "1          nenhum município          nenhum município   \n",
      "2  Desenvolvimento moderado  Desenvolvimento moderado   \n",
      "3                        1º                 Ariquemes   \n",
      "4                        2º                   Vilhena   \n",
      "\n",
      "    IFDM Consolidado (2013)  \n",
      "0      Desenvolvimento alto  \n",
      "1          nenhum município  \n",
      "2  Desenvolvimento moderado  \n",
      "3                    0.7746  \n",
      "4                    0.7465  \n"
     ]
    }
   ],
   "source": [
    "import requests\n",
    "from bs4 import BeautifulSoup\n",
    "\n",
    "# URL da página da Wikipedia com a tabela do IFDM de municípios de Rondônia\n",
    "url = \"https://pt.wikipedia.org/wiki/Lista_de_munic%C3%ADpios_de_Rond%C3%B4nia_por_IFDM\"\n",
    "\n",
    "# Realiza uma solicitação HTTP para obter o conteúdo da página\n",
    "response = requests.get(url)\n",
    "\n",
    "# Verifica se a solicitação foi bem-sucedida\n",
    "if response.status_code == 200:\n",
    "    # Parseia o conteúdo da página com BeautifulSoup\n",
    "    soup = BeautifulSoup(response.text, 'html.parser')\n",
    "    \n",
    "    # Encontra a tabela na página (pode ser necessário inspecionar a página para obter o seletor correto)\n",
    "    table = soup.find('table', {'class': 'wikitable'})\n",
    "\n",
    "    # Converte a tabela HTML em um DataFrame do Pandas\n",
    "    df = pd.read_html(str(table), header=0)[0]\n",
    "\n",
    "    # Exibe as primeiras linhas do DataFrame para verificar os dados\n",
    "    print(df.head())\n",
    "else:\n",
    "    print(\"Erro ao fazer a solicitação HTTP\")\n"
   ]
  },
  {
   "cell_type": "code",
   "execution_count": 27,
   "metadata": {},
   "outputs": [],
   "source": [
    "import pandas as pd"
   ]
  },
  {
   "cell_type": "code",
   "execution_count": 29,
   "metadata": {},
   "outputs": [
    {
     "name": "stdout",
     "output_type": "stream",
     "text": [
      "Faixa IFDM\n",
      "Baixo              NaN\n",
      "Médio Baixo        NaN\n",
      "Médio Alto     0.76055\n",
      "Alto               NaN\n",
      "Name: IFDM Consolidado (2013), dtype: float64\n"
     ]
    }
   ],
   "source": [
    "import pandas as pd\n",
    "\n",
    "# Crie um DataFrame com os dados\n",
    "data = {\n",
    "    \"Posição\": [\"Desenvolvimento alto\", \"nenhum município\", \"Desenvolvimento moderado\", \"1º\", \"2º\"],\n",
    "    \"Município\": [\"Desenvolvimento alto\", \"nenhum município\", \"Desenvolvimento moderado\", \"Ariquemes\", \"Vilhena\"],\n",
    "    \"IFDM Consolidado (2013)\": [None, None, None, 0.7746, 0.7465]\n",
    "}\n",
    "\n",
    "df = pd.DataFrame(data)\n",
    "\n",
    "# Crie faixas para o IFDM\n",
    "faixas = [0, 0.4, 0.6, 0.8, 1.0]\n",
    "rotulos = ['Baixo', 'Médio Baixo', 'Médio Alto', 'Alto']\n",
    "\n",
    "# Crie uma nova coluna 'Faixa IFDM' com base nas faixas\n",
    "df['Faixa IFDM'] = pd.cut(df['IFDM Consolidado (2013)'], bins=faixas, labels=rotulos, include_lowest=True)\n",
    "\n",
    "# Realize um agrupamento com base na nova coluna 'Faixa IFDM' e calcule a média do IFDM Consolidado (2013)\n",
    "agrupamento = df.groupby('Faixa IFDM')['IFDM Consolidado (2013)'].mean()\n",
    "\n",
    "# Exiba o resultado do agrupamento\n",
    "print(agrupamento)\n"
   ]
  },
  {
   "cell_type": "markdown",
   "metadata": {},
   "source": [
    "### 5.3 PIB\n",
    "C - https://pt.wikipedia.org/wiki/Lista_de_munic%C3%ADpios_de_Rond%C3%B4nia_por_PIB\n"
   ]
  },
  {
   "cell_type": "code",
   "execution_count": 33,
   "metadata": {},
   "outputs": [
    {
     "name": "stdout",
     "output_type": "stream",
     "text": [
      "1\n",
      "(0)\n",
      "Porto Velho\n",
      "17 912 070\n",
      "\n",
      "2\n",
      "(0)\n",
      "Ji-Paraná\n",
      "3 783 972\n",
      "\n",
      "3\n",
      "(0)\n",
      "Vilhena\n",
      "2 831 175\n",
      "\n",
      "4\n",
      "(0)\n",
      "Ariquemes\n",
      "2 579 830\n",
      "\n",
      "5\n",
      "(0)\n",
      "Cacoal\n",
      "2 261 644\n",
      "\n",
      "6\n",
      "(0)\n",
      "Jaru\n",
      "1 500 890\n",
      "\n",
      "7\n",
      "(0)\n",
      "Rolim de Moura\n",
      "1 283 434\n",
      "\n",
      "8\n",
      "(0)\n",
      "Pimenta Bueno\n",
      "1 164 877\n",
      "\n"
     ]
    }
   ],
   "source": [
    "import requests\n",
    "from bs4 import BeautifulSoup\n",
    "\n",
    "# URL da página da lista de municípios de Rondônia por PIB\n",
    "url = \"https://pt.wikipedia.org/wiki/Lista_de_munic%C3%ADpios_de_Rond%C3%B4nia_por_PIB\"\n",
    "\n",
    "# Faça uma solicitação GET para obter o conteúdo da página\n",
    "response = requests.get(url)\n",
    "\n",
    "# Verifique se a solicitação foi bem-sucedida (código de status 200)\n",
    "if response.status_code == 200:\n",
    "    # Parseie o conteúdo da página com BeautifulSoup\n",
    "    soup = BeautifulSoup(response.text, \"html.parser\")\n",
    "\n",
    "    # Encontre a tabela que contém os dados que você deseja\n",
    "    table = soup.find(\"table\", {\"class\": \"wikitable\"})\n",
    "\n",
    "    # Exiba os dados da tabela\n",
    "    for row in table.find_all(\"tr\"):\n",
    "        cells = row.find_all(\"td\")\n",
    "        if len(cells) > 0:\n",
    "            # Imprima o conteúdo das células\n",
    "            for cell in cells:\n",
    "                print(cell.get_text(strip=True))\n",
    "\n",
    "else:\n",
    "    print(\"Erro ao acessar a página. Código de status:\", response.status_code)\n"
   ]
  },
  {
   "cell_type": "code",
   "execution_count": 37,
   "metadata": {},
   "outputs": [
    {
     "name": "stdout",
     "output_type": "stream",
     "text": [
      "Faixa PIB\n",
      "Até 10 milhões          2.200832e+06\n",
      "10 a 50 milhões         1.791207e+07\n",
      "50 a 100 milhões                 NaN\n",
      "100 a 500 milhões                NaN\n",
      "Acima de 500 milhões             NaN\n",
      "Name: PIB (em R$), dtype: float64\n"
     ]
    }
   ],
   "source": [
    "import pandas as pd\n",
    "\n",
    "# Dados das colunas\n",
    "municipios = [\"Porto Velho\", \"Ji-Paraná\", \"Vilhena\", \"Ariquemes\", \"Cacoal\", \"Jaru\", \"Rolim de Moura\", \"Pimenta Bueno\"]\n",
    "pib = [17912070, 3783972, 2831175, 2579830, 2261644, 1500890, 1283434, 1164877]\n",
    "\n",
    "# Criar um DataFrame a partir dos dados\n",
    "df = pd.DataFrame({'Município': municipios, 'PIB (em R$)': pib})\n",
    "\n",
    "# Mapeamento de faixas de PIB\n",
    "mapeamento_faixas = {\n",
    "    \"Até 10 milhões\": (0, 10000000),\n",
    "    \"10 a 50 milhões\": (10000000, 50000000),\n",
    "    \"50 a 100 milhões\": (50000000, 100000000),\n",
    "    \"100 a 500 milhões\": (100000000, 500000000),\n",
    "    \"Acima de 500 milhões\": (500000000, float(\"inf\"))\n",
    "}\n",
    "\n",
    "# Crie uma nova coluna \"Faixa PIB\" com base no mapeamento\n",
    "df['Faixa PIB'] = pd.cut(df['PIB (em R$)'], bins=[0, 10000000, 50000000, 100000000, 500000000, float(\"inf\")], labels=mapeamento_faixas.keys())\n",
    "\n",
    "# Agrupe com base na coluna \"Faixa PIB\" e calcule a média do PIB\n",
    "agrupamento = df.groupby('Faixa PIB')['PIB (em R$)'].mean()\n",
    "\n",
    "# Exiba o resultado do agrupamento\n",
    "print(agrupamento)\n"
   ]
  },
  {
   "cell_type": "markdown",
   "metadata": {},
   "source": [
    "### Analise as respostas encontradas, tire algum insight delas, conte pra gente algo encontrado nos dados."
   ]
  },
  {
   "cell_type": "markdown",
   "metadata": {},
   "source": [
    "Exemplo:\n",
    "- Ah, descobri que a idade mediana das mulheres que deram a luz no ano de 2019 dos municipios com o PIB mais alto é a maior dentre todas."
   ]
  },
  {
   "cell_type": "markdown",
   "metadata": {},
   "source": [
    "## Análise dos Dados de Rondônia\n",
    "\n",
    "### PIB (Produto Interno Bruto) dos Municípios de Rondônia\n",
    "- A média do PIB nos municípios de Rondônia é de R$ 4.16 milhões, com desvio padrão de R$ 5.62 milhões.\n",
    "- O município com o maior PIB é Porto Velho, com R$ 17.91 milhões, e o município com o menor PIB é Pimenta Bueno, com R$ 1.16 milhões.\n",
    "\n",
    "### IDH (Índice de Desenvolvimento Humano) Municipal dos Municípios de Rondônia\n",
    "- A média do IDH municipal nos municípios de Rondônia é de 0.728, com desvio padrão de 0.009.\n",
    "- O município com o maior IDH é Porto Velho, com 0.736, e os outros municípios apresentam IDH alto.\n",
    "- Isso indica que a maioria dos municípios de Rondônia possui um IDH elevado.\n",
    "\n",
    "### IFDM (Índice FIRJAN de Desenvolvimento Municipal) dos Municípios de Rondônia\n",
    "- A média do IFDM Consolidado (2013) nos municípios de Rondônia é de 0.7475, com desvio padrão de 0.0266.\n",
    "- O município com o maior IFDM é Porto Velho, com 0.7746.\n",
    "- A maioria dos municípios de Rondônia possui um IFDM elevado.\n",
    "\n",
    "### Análise da Idade das Mães e Quantidade de Filhos Vivos\n",
    "- Um gráfico mostrou a média de idade das mães e a quantidade de filhos vivos por faixa de latitude em Rondônia.\n",
    "- Foi observado que a média de idade das mães aumenta à medida que a latitude aumenta, indicando que mulheres em regiões mais ao norte tendem a ter filhos em idade mais avançada.\n",
    "- Além disso, a quantidade de filhos vivos diminui à medida que a latitude aumenta, sugerindo que mulheres em regiões mais ao norte têm menos filhos.\n",
    "- Possíveis fatores influenciadores incluem clima, educação, custo de vida, carreira e conscientização sobre os riscos da gravidez.\n",
    "\n",
    "### Insights\n",
    "- O PIB médio dos municípios de Rondônia é variado, com Porto Velho liderando em termos de desenvolvimento econômico.\n",
    "- Rondônia tem uma maioria de municípios com IDH alto, indicando uma boa qualidade de vida.\n",
    "- O IFDM sugere que a maioria dos municípios apresenta um desenvolvimento moderado a alto.\n",
    "- A análise da idade das mães e da quantidade de filhos vivos indica padrões que podem estar relacionados a fatores como clima, educação e carreira.\n",
    "- Recomenda-se analisar a distribuição de idades das mães por região imediata, examinar os fatores que influenciam esses padrões e comparar com outras regiões do Brasil para obter insights adicionais.\n",
    "\n",
    "Essas análises fornecem uma visão abrangente das dinâmicas sociais e econômicas em Rondônia, contribuindo para uma compreensão mais profunda do estado."
   ]
  },
  {
   "cell_type": "code",
   "execution_count": null,
   "metadata": {},
   "outputs": [],
   "source": []
  }
 ],
 "metadata": {
  "kernelspec": {
   "display_name": "Python 3 (ipykernel)",
   "language": "python",
   "name": "python3"
  },
  "language_info": {
   "codemirror_mode": {
    "name": "ipython",
    "version": 3
   },
   "file_extension": ".py",
   "mimetype": "text/x-python",
   "name": "python",
   "nbconvert_exporter": "python",
   "pygments_lexer": "ipython3",
   "version": "3.11.4"
  },
  "varInspector": {
   "cols": {
    "lenName": 16,
    "lenType": 16,
    "lenVar": 40
   },
   "kernels_config": {
    "python": {
     "delete_cmd_postfix": "",
     "delete_cmd_prefix": "del ",
     "library": "var_list.py",
     "varRefreshCmd": "print(var_dic_list())"
    },
    "r": {
     "delete_cmd_postfix": ") ",
     "delete_cmd_prefix": "rm(",
     "library": "var_list.r",
     "varRefreshCmd": "cat(var_dic_list()) "
    }
   },
   "types_to_exclude": [
    "module",
    "function",
    "builtin_function_or_method",
    "instance",
    "_Feature"
   ],
   "window_display": false
  }
 },
 "nbformat": 4,
 "nbformat_minor": 4
}
